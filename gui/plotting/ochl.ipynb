{
 "cells": [
  {
   "cell_type": "code",
   "execution_count": 1,
   "id": "2bbd7c1f",
   "metadata": {},
   "outputs": [
    {
     "name": "stderr",
     "output_type": "stream",
     "text": [
      "/Users/mythezone/miniconda3/envs/simlob312/lib/python3.12/site-packages/tqdm/auto.py:21: TqdmWarning: IProgress not found. Please update jupyter and ipywidgets. See https://ipywidgets.readthedocs.io/en/stable/user_install.html\n",
      "  from .autonotebook import tqdm as notebook_tqdm\n"
     ]
    }
   ],
   "source": [
    "import pandas as pd\n",
    "import plotly.graph_objects as go\n",
    "import gradio as gr\n",
    "from io import StringIO\n",
    "\n",
    "\n",
    "def parse_and_plot(file):\n",
    "    # 读取上传的CSV文件内容\n",
    "    raw_data = file.read().decode(\"utf-8\")\n",
    "    df = pd.read_csv(StringIO(raw_data), header=None)\n",
    "    df.columns = [\n",
    "        \"Code\", \"Date\", \"Time\", \"Open\", \"High\", \"Low\", \"Close\",\n",
    "        \"Volume\", \"Turnover\", \"MatchItems\", \"Interest\"\n",
    "    ]\n",
    "\n",
    "    # 创建一个时间戳列（将 Date + Time 拼成完整时间）\n",
    "    df['Datetime'] = pd.to_datetime(df['Date'].astype(str) + df['Time'].astype(str).str.zfill(6), format='%Y%m%d%H%M%S')\n",
    "\n",
    "    # 按时间排序\n",
    "    df.sort_values('Datetime', inplace=True)\n",
    "\n",
    "    # 使用 Plotly 绘制蜡烛图\n",
    "    fig = go.Figure(data=[\n",
    "        go.Candlestick(\n",
    "            x=df['Datetime'],\n",
    "            open=df['Open'],\n",
    "            high=df['High'],\n",
    "            low=df['Low'],\n",
    "            close=df['Close'],\n",
    "            increasing_line_color='red',  # 上涨红色\n",
    "            decreasing_line_color='green'  # 下跌绿色\n",
    "        )\n",
    "    ])\n",
    "\n",
    "    fig.update_layout(\n",
    "        title='股票分时蜡烛图',\n",
    "        xaxis_title='时间',\n",
    "        yaxis_title='价格',\n",
    "        xaxis_rangeslider_visible=True,\n",
    "        height=600\n",
    "    )\n",
    "\n",
    "    return fig\n",
    "\n",
    "\n",
    "# 使用 Gradio 创建界面\n",
    "iface = gr.Interface(\n",
    "    fn=parse_and_plot,\n",
    "    inputs=gr.File(label=\"上传股票分钟级CSV文件（无表头）\"),\n",
    "    outputs=gr.Plot(label=\"交互式蜡烛图\"),\n",
    "    title=\"股票蜡烛图展示器\",\n",
    "    description=\"支持分钟级数据的交互式蜡烛图显示，支持缩放、拖动、文件上传\"\n",
    ")\n",
    "\n"
   ]
  },
  {
   "cell_type": "code",
   "execution_count": 2,
   "id": "8a0a80c8",
   "metadata": {},
   "outputs": [
    {
     "name": "stdout",
     "output_type": "stream",
     "text": [
      "* Running on local URL:  http://127.0.0.1:7860\n",
      "\n",
      "To create a public link, set `share=True` in `launch()`.\n"
     ]
    },
    {
     "data": {
      "text/html": [
       "<div><iframe src=\"http://127.0.0.1:7860/\" width=\"100%\" height=\"500\" allow=\"autoplay; camera; microphone; clipboard-read; clipboard-write;\" frameborder=\"0\" allowfullscreen></iframe></div>"
      ],
      "text/plain": [
       "<IPython.core.display.HTML object>"
      ]
     },
     "metadata": {},
     "output_type": "display_data"
    },
    {
     "data": {
      "text/plain": []
     },
     "execution_count": 2,
     "metadata": {},
     "output_type": "execute_result"
    },
    {
     "name": "stderr",
     "output_type": "stream",
     "text": [
      "Traceback (most recent call last):\n",
      "  File \"/Users/mythezone/miniconda3/envs/simlob312/lib/python3.12/site-packages/gradio/queueing.py\", line 625, in process_events\n",
      "    response = await route_utils.call_process_api(\n",
      "               ^^^^^^^^^^^^^^^^^^^^^^^^^^^^^^^^^^^\n",
      "  File \"/Users/mythezone/miniconda3/envs/simlob312/lib/python3.12/site-packages/gradio/route_utils.py\", line 322, in call_process_api\n",
      "    output = await app.get_blocks().process_api(\n",
      "             ^^^^^^^^^^^^^^^^^^^^^^^^^^^^^^^^^^^\n",
      "  File \"/Users/mythezone/miniconda3/envs/simlob312/lib/python3.12/site-packages/gradio/blocks.py\", line 2137, in process_api\n",
      "    result = await self.call_function(\n",
      "             ^^^^^^^^^^^^^^^^^^^^^^^^^\n",
      "  File \"/Users/mythezone/miniconda3/envs/simlob312/lib/python3.12/site-packages/gradio/blocks.py\", line 1663, in call_function\n",
      "    prediction = await anyio.to_thread.run_sync(  # type: ignore\n",
      "                 ^^^^^^^^^^^^^^^^^^^^^^^^^^^^^^^^^^^^^^^^^^^^^^^\n",
      "  File \"/Users/mythezone/miniconda3/envs/simlob312/lib/python3.12/site-packages/anyio/to_thread.py\", line 56, in run_sync\n",
      "    return await get_async_backend().run_sync_in_worker_thread(\n",
      "           ^^^^^^^^^^^^^^^^^^^^^^^^^^^^^^^^^^^^^^^^^^^^^^^^^^^^\n",
      "  File \"/Users/mythezone/miniconda3/envs/simlob312/lib/python3.12/site-packages/anyio/_backends/_asyncio.py\", line 2470, in run_sync_in_worker_thread\n",
      "    return await future\n",
      "           ^^^^^^^^^^^^\n",
      "  File \"/Users/mythezone/miniconda3/envs/simlob312/lib/python3.12/site-packages/anyio/_backends/_asyncio.py\", line 967, in run\n",
      "    result = context.run(func, *args)\n",
      "             ^^^^^^^^^^^^^^^^^^^^^^^^\n",
      "  File \"/Users/mythezone/miniconda3/envs/simlob312/lib/python3.12/site-packages/gradio/utils.py\", line 890, in wrapper\n",
      "    response = f(*args, **kwargs)\n",
      "               ^^^^^^^^^^^^^^^^^^\n",
      "  File \"/var/folders/hs/p_t7843d0wdc8q0z06yq2xh80000gn/T/ipykernel_12318/841340678.py\", line 9, in parse_and_plot\n",
      "    raw_data = file.read().decode(\"utf-8\")\n",
      "               ^^^^^^^^^\n",
      "AttributeError: 'NamedString' object has no attribute 'read'\n",
      "Traceback (most recent call last):\n",
      "  File \"/Users/mythezone/miniconda3/envs/simlob312/lib/python3.12/site-packages/gradio/queueing.py\", line 625, in process_events\n",
      "    response = await route_utils.call_process_api(\n",
      "               ^^^^^^^^^^^^^^^^^^^^^^^^^^^^^^^^^^^\n",
      "  File \"/Users/mythezone/miniconda3/envs/simlob312/lib/python3.12/site-packages/gradio/route_utils.py\", line 322, in call_process_api\n",
      "    output = await app.get_blocks().process_api(\n",
      "             ^^^^^^^^^^^^^^^^^^^^^^^^^^^^^^^^^^^\n",
      "  File \"/Users/mythezone/miniconda3/envs/simlob312/lib/python3.12/site-packages/gradio/blocks.py\", line 2137, in process_api\n",
      "    result = await self.call_function(\n",
      "             ^^^^^^^^^^^^^^^^^^^^^^^^^\n",
      "  File \"/Users/mythezone/miniconda3/envs/simlob312/lib/python3.12/site-packages/gradio/blocks.py\", line 1663, in call_function\n",
      "    prediction = await anyio.to_thread.run_sync(  # type: ignore\n",
      "                 ^^^^^^^^^^^^^^^^^^^^^^^^^^^^^^^^^^^^^^^^^^^^^^^\n",
      "  File \"/Users/mythezone/miniconda3/envs/simlob312/lib/python3.12/site-packages/anyio/to_thread.py\", line 56, in run_sync\n",
      "    return await get_async_backend().run_sync_in_worker_thread(\n",
      "           ^^^^^^^^^^^^^^^^^^^^^^^^^^^^^^^^^^^^^^^^^^^^^^^^^^^^\n",
      "  File \"/Users/mythezone/miniconda3/envs/simlob312/lib/python3.12/site-packages/anyio/_backends/_asyncio.py\", line 2470, in run_sync_in_worker_thread\n",
      "    return await future\n",
      "           ^^^^^^^^^^^^\n",
      "  File \"/Users/mythezone/miniconda3/envs/simlob312/lib/python3.12/site-packages/anyio/_backends/_asyncio.py\", line 967, in run\n",
      "    result = context.run(func, *args)\n",
      "             ^^^^^^^^^^^^^^^^^^^^^^^^\n",
      "  File \"/Users/mythezone/miniconda3/envs/simlob312/lib/python3.12/site-packages/gradio/utils.py\", line 890, in wrapper\n",
      "    response = f(*args, **kwargs)\n",
      "               ^^^^^^^^^^^^^^^^^^\n",
      "  File \"/var/folders/hs/p_t7843d0wdc8q0z06yq2xh80000gn/T/ipykernel_12318/841340678.py\", line 9, in parse_and_plot\n",
      "    raw_data = file.read().decode(\"utf-8\")\n",
      "               ^^^^^^^^^\n",
      "AttributeError: 'NamedString' object has no attribute 'read'\n",
      "Traceback (most recent call last):\n",
      "  File \"/Users/mythezone/miniconda3/envs/simlob312/lib/python3.12/site-packages/gradio/queueing.py\", line 625, in process_events\n",
      "    response = await route_utils.call_process_api(\n",
      "               ^^^^^^^^^^^^^^^^^^^^^^^^^^^^^^^^^^^\n",
      "  File \"/Users/mythezone/miniconda3/envs/simlob312/lib/python3.12/site-packages/gradio/route_utils.py\", line 322, in call_process_api\n",
      "    output = await app.get_blocks().process_api(\n",
      "             ^^^^^^^^^^^^^^^^^^^^^^^^^^^^^^^^^^^\n",
      "  File \"/Users/mythezone/miniconda3/envs/simlob312/lib/python3.12/site-packages/gradio/blocks.py\", line 2137, in process_api\n",
      "    result = await self.call_function(\n",
      "             ^^^^^^^^^^^^^^^^^^^^^^^^^\n",
      "  File \"/Users/mythezone/miniconda3/envs/simlob312/lib/python3.12/site-packages/gradio/blocks.py\", line 1663, in call_function\n",
      "    prediction = await anyio.to_thread.run_sync(  # type: ignore\n",
      "                 ^^^^^^^^^^^^^^^^^^^^^^^^^^^^^^^^^^^^^^^^^^^^^^^\n",
      "  File \"/Users/mythezone/miniconda3/envs/simlob312/lib/python3.12/site-packages/anyio/to_thread.py\", line 56, in run_sync\n",
      "    return await get_async_backend().run_sync_in_worker_thread(\n",
      "           ^^^^^^^^^^^^^^^^^^^^^^^^^^^^^^^^^^^^^^^^^^^^^^^^^^^^\n",
      "  File \"/Users/mythezone/miniconda3/envs/simlob312/lib/python3.12/site-packages/anyio/_backends/_asyncio.py\", line 2470, in run_sync_in_worker_thread\n",
      "    return await future\n",
      "           ^^^^^^^^^^^^\n",
      "  File \"/Users/mythezone/miniconda3/envs/simlob312/lib/python3.12/site-packages/anyio/_backends/_asyncio.py\", line 967, in run\n",
      "    result = context.run(func, *args)\n",
      "             ^^^^^^^^^^^^^^^^^^^^^^^^\n",
      "  File \"/Users/mythezone/miniconda3/envs/simlob312/lib/python3.12/site-packages/gradio/utils.py\", line 890, in wrapper\n",
      "    response = f(*args, **kwargs)\n",
      "               ^^^^^^^^^^^^^^^^^^\n",
      "  File \"/var/folders/hs/p_t7843d0wdc8q0z06yq2xh80000gn/T/ipykernel_12318/841340678.py\", line 9, in parse_and_plot\n",
      "    raw_data = file.read().decode(\"utf-8\")\n",
      "               ^^^^^^^^^\n",
      "AttributeError: 'NamedString' object has no attribute 'read'\n"
     ]
    }
   ],
   "source": [
    "\n",
    "iface.launch()\n"
   ]
  },
  {
   "cell_type": "code",
   "execution_count": null,
   "id": "b6b9a6b0",
   "metadata": {},
   "outputs": [],
   "source": []
  }
 ],
 "metadata": {
  "kernelspec": {
   "display_name": "simlob312",
   "language": "python",
   "name": "python3"
  },
  "language_info": {
   "codemirror_mode": {
    "name": "ipython",
    "version": 3
   },
   "file_extension": ".py",
   "mimetype": "text/x-python",
   "name": "python",
   "nbconvert_exporter": "python",
   "pygments_lexer": "ipython3",
   "version": "3.12.2"
  }
 },
 "nbformat": 4,
 "nbformat_minor": 5
}
