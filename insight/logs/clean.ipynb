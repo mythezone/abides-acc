{
 "cells": [
  {
   "cell_type": "code",
   "execution_count": null,
   "metadata": {},
   "outputs": [],
   "source": [
    "import os \n",
    "\n",
    "\n",
    "with open('./insight/logs/trace_report.txt', 'r') as f:\n",
    "    lines = f.readlines()\n",
    "\n",
    "    if "
   ]
  }
 ],
 "metadata": {
  "language_info": {
   "name": "python"
  }
 },
 "nbformat": 4,
 "nbformat_minor": 2
}
