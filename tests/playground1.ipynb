{
 "cells": [
  {
   "cell_type": "code",
   "execution_count": 1,
   "id": "9beacca4",
   "metadata": {},
   "outputs": [],
   "source": [
    "from queue import PriorityQueue"
   ]
  },
  {
   "cell_type": "code",
   "execution_count": 2,
   "id": "bc31251c",
   "metadata": {},
   "outputs": [],
   "source": [
    "pq = PriorityQueue()\n",
    "pq.put((1, 'a'))\n",
    "pq.put((3, 'c'))\n",
    "pq.put((2, 'b'))\n",
    "pq.put((4, 'd'))"
   ]
  },
  {
   "cell_type": "code",
   "execution_count": 3,
   "id": "d230738f",
   "metadata": {},
   "outputs": [
    {
     "data": {
      "text/plain": [
       "(1, 'a')"
      ]
     },
     "execution_count": 3,
     "metadata": {},
     "output_type": "execute_result"
    }
   ],
   "source": [
    "pq.get()"
   ]
  },
  {
   "cell_type": "code",
   "execution_count": 4,
   "id": "ea8dc776",
   "metadata": {},
   "outputs": [
    {
     "data": {
      "text/plain": [
       "3"
      ]
     },
     "execution_count": 4,
     "metadata": {},
     "output_type": "execute_result"
    }
   ],
   "source": [
    "pq.qsize()"
   ]
  },
  {
   "cell_type": "code",
   "execution_count": 6,
   "id": "4d838cba",
   "metadata": {},
   "outputs": [
    {
     "data": {
      "text/plain": [
       "(2, 'b')"
      ]
     },
     "execution_count": 6,
     "metadata": {},
     "output_type": "execute_result"
    }
   ],
   "source": [
    "pq.queue[0]"
   ]
  },
  {
   "cell_type": "code",
   "execution_count": 7,
   "id": "bea4bf59",
   "metadata": {},
   "outputs": [
    {
     "data": {
      "text/plain": [
       "(3, 'c')"
      ]
     },
     "execution_count": 7,
     "metadata": {},
     "output_type": "execute_result"
    }
   ],
   "source": [
    "pq.queue[1]"
   ]
  },
  {
   "cell_type": "code",
   "execution_count": 14,
   "id": "02f04631",
   "metadata": {},
   "outputs": [],
   "source": [
    "pq.put((2,'a'))"
   ]
  },
  {
   "cell_type": "code",
   "execution_count": 15,
   "id": "95bd0066",
   "metadata": {},
   "outputs": [],
   "source": [
    "pq.put((2,'0'))"
   ]
  },
  {
   "cell_type": "code",
   "execution_count": 16,
   "id": "4e301735",
   "metadata": {},
   "outputs": [],
   "source": [
    "pq.put((2,'b'))"
   ]
  },
  {
   "cell_type": "code",
   "execution_count": 17,
   "id": "a699b3e9",
   "metadata": {},
   "outputs": [
    {
     "data": {
      "text/plain": [
       "[(2, '0'), (2, 'a'), (3, 'c'), (4, 'd'), (2, 'b')]"
      ]
     },
     "execution_count": 17,
     "metadata": {},
     "output_type": "execute_result"
    }
   ],
   "source": [
    "pq.queue"
   ]
  },
  {
   "cell_type": "code",
   "execution_count": 18,
   "id": "9674cef5",
   "metadata": {},
   "outputs": [
    {
     "data": {
      "text/plain": [
       "(2, '0')"
      ]
     },
     "execution_count": 18,
     "metadata": {},
     "output_type": "execute_result"
    }
   ],
   "source": [
    "pq.get()"
   ]
  },
  {
   "cell_type": "code",
   "execution_count": 23,
   "id": "95c7f7cf",
   "metadata": {},
   "outputs": [
    {
     "name": "stdout",
     "output_type": "stream",
     "text": [
      "[]\n"
     ]
    },
    {
     "ename": "KeyboardInterrupt",
     "evalue": "",
     "output_type": "error",
     "traceback": [
      "\u001b[31m---------------------------------------------------------------------------\u001b[39m",
      "\u001b[31mKeyboardInterrupt\u001b[39m                         Traceback (most recent call last)",
      "\u001b[36mCell\u001b[39m\u001b[36m \u001b[39m\u001b[32mIn[23]\u001b[39m\u001b[32m, line 2\u001b[39m\n\u001b[32m      1\u001b[39m \u001b[38;5;28mprint\u001b[39m(pq.queue)\n\u001b[32m----> \u001b[39m\u001b[32m2\u001b[39m \u001b[43mpq\u001b[49m\u001b[43m.\u001b[49m\u001b[43mget\u001b[49m\u001b[43m(\u001b[49m\u001b[43m)\u001b[49m\n",
      "\u001b[36mFile \u001b[39m\u001b[32m~/miniconda3/envs/simlob312/lib/python3.12/queue.py:171\u001b[39m, in \u001b[36mQueue.get\u001b[39m\u001b[34m(self, block, timeout)\u001b[39m\n\u001b[32m    169\u001b[39m \u001b[38;5;28;01melif\u001b[39;00m timeout \u001b[38;5;129;01mis\u001b[39;00m \u001b[38;5;28;01mNone\u001b[39;00m:\n\u001b[32m    170\u001b[39m     \u001b[38;5;28;01mwhile\u001b[39;00m \u001b[38;5;129;01mnot\u001b[39;00m \u001b[38;5;28mself\u001b[39m._qsize():\n\u001b[32m--> \u001b[39m\u001b[32m171\u001b[39m         \u001b[38;5;28;43mself\u001b[39;49m\u001b[43m.\u001b[49m\u001b[43mnot_empty\u001b[49m\u001b[43m.\u001b[49m\u001b[43mwait\u001b[49m\u001b[43m(\u001b[49m\u001b[43m)\u001b[49m\n\u001b[32m    172\u001b[39m \u001b[38;5;28;01melif\u001b[39;00m timeout < \u001b[32m0\u001b[39m:\n\u001b[32m    173\u001b[39m     \u001b[38;5;28;01mraise\u001b[39;00m \u001b[38;5;167;01mValueError\u001b[39;00m(\u001b[33m\"\u001b[39m\u001b[33m'\u001b[39m\u001b[33mtimeout\u001b[39m\u001b[33m'\u001b[39m\u001b[33m must be a non-negative number\u001b[39m\u001b[33m\"\u001b[39m)\n",
      "\u001b[36mFile \u001b[39m\u001b[32m~/miniconda3/envs/simlob312/lib/python3.12/threading.py:355\u001b[39m, in \u001b[36mCondition.wait\u001b[39m\u001b[34m(self, timeout)\u001b[39m\n\u001b[32m    353\u001b[39m \u001b[38;5;28;01mtry\u001b[39;00m:    \u001b[38;5;66;03m# restore state no matter what (e.g., KeyboardInterrupt)\u001b[39;00m\n\u001b[32m    354\u001b[39m     \u001b[38;5;28;01mif\u001b[39;00m timeout \u001b[38;5;129;01mis\u001b[39;00m \u001b[38;5;28;01mNone\u001b[39;00m:\n\u001b[32m--> \u001b[39m\u001b[32m355\u001b[39m         \u001b[43mwaiter\u001b[49m\u001b[43m.\u001b[49m\u001b[43macquire\u001b[49m\u001b[43m(\u001b[49m\u001b[43m)\u001b[49m\n\u001b[32m    356\u001b[39m         gotit = \u001b[38;5;28;01mTrue\u001b[39;00m\n\u001b[32m    357\u001b[39m     \u001b[38;5;28;01melse\u001b[39;00m:\n",
      "\u001b[31mKeyboardInterrupt\u001b[39m: "
     ]
    }
   ],
   "source": [
    "print(pq.queue)\n",
    "pq.get()"
   ]
  },
  {
   "cell_type": "code",
   "execution_count": 13,
   "id": "7528856c",
   "metadata": {},
   "outputs": [
    {
     "data": {
      "text/plain": [
       "(2, 'b')"
      ]
     },
     "execution_count": 13,
     "metadata": {},
     "output_type": "execute_result"
    }
   ],
   "source": [
    "pq.get()"
   ]
  },
  {
   "cell_type": "code",
   "execution_count": 25,
   "id": "178f5096",
   "metadata": {},
   "outputs": [
    {
     "name": "stdout",
     "output_type": "stream",
     "text": [
      "heapq time: 5.041130065917969\n",
      "PriorityQueue time: 11.524499893188477\n"
     ]
    }
   ],
   "source": [
    "import time\n",
    "import heapq\n",
    "from queue import PriorityQueue\n",
    "\n",
    "n = 10000000\n",
    "data = [(i, str(i)) for i in range(n)]\n",
    "\n",
    "# heapq\n",
    "h = []\n",
    "start = time.time()\n",
    "for item in data:\n",
    "    heapq.heappush(h, item)\n",
    "for _ in range(n):\n",
    "    heapq.heappop(h)\n",
    "print(\"heapq time:\", time.time() - start)\n",
    "\n",
    "# PriorityQueue\n",
    "pq = PriorityQueue()\n",
    "start = time.time()\n",
    "for item in data:\n",
    "    pq.put(item)\n",
    "for _ in range(n):\n",
    "    pq.get()\n",
    "print(\"PriorityQueue time:\", time.time() - start)"
   ]
  },
  {
   "cell_type": "code",
   "execution_count": null,
   "id": "245c20e9",
   "metadata": {},
   "outputs": [],
   "source": []
  }
 ],
 "metadata": {
  "kernelspec": {
   "display_name": "simlob312",
   "language": "python",
   "name": "python3"
  },
  "language_info": {
   "codemirror_mode": {
    "name": "ipython",
    "version": 3
   },
   "file_extension": ".py",
   "mimetype": "text/x-python",
   "name": "python",
   "nbconvert_exporter": "python",
   "pygments_lexer": "ipython3",
   "version": "3.12.2"
  }
 },
 "nbformat": 4,
 "nbformat_minor": 5
}
